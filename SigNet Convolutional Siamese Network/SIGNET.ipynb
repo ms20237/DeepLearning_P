{
  "nbformat": 4,
  "nbformat_minor": 0,
  "metadata": {
    "colab": {
      "provenance": []
    },
    "kernelspec": {
      "name": "python3",
      "display_name": "Python 3"
    },
    "language_info": {
      "name": "python"
    }
  },
  "cells": [
    {
      "cell_type": "code",
      "execution_count": null,
      "metadata": {
        "id": "Rg6WWtE5i1l7"
      },
      "outputs": [],
      "source": [
        "import torch\n",
        "import torch.nn as nn\n",
        "import torch.nn.functional as F\n",
        "import torchvision\n",
        "import torchvision.transforms as transforms\n",
        "\n",
        "from torchsummary import summary"
      ]
    },
    {
      "cell_type": "code",
      "source": [
        "class SIGNET(nn.Module):\n",
        "    def __init__(self, input_size):\n",
        "        super(SIGNET, self).__init__()\n",
        "        self.conv1 = nn.Conv2d(in_channels=input_size, out_channels=96, kernel_size=(11, 11), stride=(1, 1))\n",
        "        self.relu = nn.ReLU()\n",
        "        self.LRN = nn.LocalResponseNorm(size=5, alpha=1e-4, beta=0.75, k=2.0)\n",
        "        self.maxpool = nn.MaxPool2d(kernel_size=3, stride=2)\n",
        "\n",
        "        self.conv2 = nn.Conv2d(in_channels=96, out_channels=256, kernel_size=(5, 5), stride=(1, 1), padding=2)\n",
        "        self.Drpout = nn.Dropout(p=0.3)\n",
        "\n",
        "        self.conv3 = nn.Conv2d(in_channels=256, out_channels=384, kernel_size=(3, 3), stride=(1, 1), padding=1)\n",
        "        self.conv4 = nn.Conv2d(in_channels=384, out_channels=256, kernel_size=(3, 3), stride=(1, 1), padding=1)\n",
        "\n",
        "\n",
        "        self.fc1 = nn.Linear(in_features=108800, out_features=1024)\n",
        "        self.fc2 = nn.Linear(in_features=1024, out_features=128)\n",
        "\n",
        "\n",
        "    def forward(self, x):\n",
        "        out = self.conv1(x)\n",
        "        out = self.relu(out)\n",
        "        out = self.LRN(out)\n",
        "        out = self.maxpool(out)\n",
        "\n",
        "        out = self.conv2(out)\n",
        "        out = self.relu(out)\n",
        "        out = self.LRN(out)\n",
        "        out = self.maxpool(out)\n",
        "        out = self.Drpout(out)\n",
        "\n",
        "        out = self.conv3(out)\n",
        "        out = self.relu(out)\n",
        "        out = self.conv4(out)\n",
        "        out = self.relu(out)\n",
        "        out = self.maxpool(out)\n",
        "        out = self.Drpout(out)\n",
        "\n",
        "        out = out.view(out.size(0), -1)\n",
        "        out = self.fc1(out)\n",
        "        out = self.Drpout(out)\n",
        "        out = self.fc2(out)\n",
        "\n",
        "        return out\n"
      ],
      "metadata": {
        "id": "YhqA_vCdjQh-"
      },
      "execution_count": null,
      "outputs": []
    },
    {
      "cell_type": "code",
      "source": [
        "# print model\n",
        "model = SIGNET(input_size=1)\n",
        "print(model)"
      ],
      "metadata": {
        "colab": {
          "base_uri": "https://localhost:8080/"
        },
        "id": "PTmsBF3L05bK",
        "outputId": "fb8ba1f9-cc75-4a98-f719-d975652f1a95"
      },
      "execution_count": null,
      "outputs": [
        {
          "output_type": "stream",
          "name": "stdout",
          "text": [
            "SIGNET(\n",
            "  (conv1): Conv2d(1, 96, kernel_size=(11, 11), stride=(1, 1))\n",
            "  (relu): ReLU()\n",
            "  (LRN): LocalResponseNorm(5, alpha=0.0001, beta=0.75, k=2.0)\n",
            "  (maxpool): MaxPool2d(kernel_size=3, stride=2, padding=0, dilation=1, ceil_mode=False)\n",
            "  (conv2): Conv2d(96, 256, kernel_size=(5, 5), stride=(1, 1), padding=(2, 2))\n",
            "  (Drpout): Dropout(p=0.3, inplace=False)\n",
            "  (conv3): Conv2d(256, 384, kernel_size=(3, 3), stride=(1, 1), padding=(1, 1))\n",
            "  (conv4): Conv2d(384, 256, kernel_size=(3, 3), stride=(1, 1), padding=(1, 1))\n",
            "  (fc1): Linear(in_features=95744, out_features=1024, bias=True)\n",
            "  (fc2): Linear(in_features=1024, out_features=128, bias=True)\n",
            ")\n"
          ]
        }
      ]
    },
    {
      "cell_type": "code",
      "source": [
        "device = torch.device('cuda' if torch.cuda.is_available() else 'cpu')\n",
        "print(device)"
      ],
      "metadata": {
        "colab": {
          "base_uri": "https://localhost:8080/"
        },
        "id": "H3WjbobX1RS5",
        "outputId": "a5570492-3fba-47fb-acad-89013b3a7c21"
      },
      "execution_count": null,
      "outputs": [
        {
          "output_type": "stream",
          "name": "stdout",
          "text": [
            "cpu\n"
          ]
        }
      ]
    },
    {
      "cell_type": "code",
      "source": [
        "model = SIGNET(input_size=1)\n",
        "\n",
        "device = torch.device('cuda' if torch.cuda.is_available() else 'cpu')\n",
        "model.to(device)  # Move the model to the GPU\n",
        "\n",
        "summary(model, input_size=(1, 155, 220))"
      ],
      "metadata": {
        "colab": {
          "base_uri": "https://localhost:8080/"
        },
        "id": "yyXH0bzF1auZ",
        "outputId": "cf592453-e6d9-4ea7-8036-1005fc281a8f"
      },
      "execution_count": null,
      "outputs": [
        {
          "output_type": "stream",
          "name": "stdout",
          "text": [
            "----------------------------------------------------------------\n",
            "        Layer (type)               Output Shape         Param #\n",
            "================================================================\n",
            "            Conv2d-1         [-1, 96, 145, 210]          11,712\n",
            "              ReLU-2         [-1, 96, 145, 210]               0\n",
            " LocalResponseNorm-3         [-1, 96, 145, 210]               0\n",
            "         MaxPool2d-4          [-1, 96, 72, 104]               0\n",
            "            Conv2d-5         [-1, 256, 72, 104]         614,656\n",
            "              ReLU-6         [-1, 256, 72, 104]               0\n",
            " LocalResponseNorm-7         [-1, 256, 72, 104]               0\n",
            "         MaxPool2d-8          [-1, 256, 35, 51]               0\n",
            "           Dropout-9          [-1, 256, 35, 51]               0\n",
            "           Conv2d-10          [-1, 384, 35, 51]         885,120\n",
            "             ReLU-11          [-1, 384, 35, 51]               0\n",
            "           Conv2d-12          [-1, 256, 35, 51]         884,992\n",
            "             ReLU-13          [-1, 256, 35, 51]               0\n",
            "        MaxPool2d-14          [-1, 256, 17, 25]               0\n",
            "          Dropout-15          [-1, 256, 17, 25]               0\n",
            "           Linear-16                 [-1, 1024]     111,412,224\n",
            "          Dropout-17                 [-1, 1024]               0\n",
            "           Linear-18                  [-1, 128]         131,200\n",
            "================================================================\n",
            "Total params: 113,939,904\n",
            "Trainable params: 113,939,904\n",
            "Non-trainable params: 0\n",
            "----------------------------------------------------------------\n",
            "Input size (MB): 0.13\n",
            "Forward/backward pass size (MB): 142.35\n",
            "Params size (MB): 434.65\n",
            "Estimated Total Size (MB): 577.12\n",
            "----------------------------------------------------------------\n"
          ]
        }
      ]
    },
    {
      "cell_type": "code",
      "source": [
        "class SIGNET(nn.Module):\n",
        "    def __init__(self, input_size):\n",
        "        super(SIGNET, self).__init__()\n",
        "        self.layer1 = nn.Sequential(\n",
        "            nn.Conv2d(in_channels=input_size, out_channels=96, kernel_size=(11, 11), stride=(1, 1)),\n",
        "            nn.ReLU(),\n",
        "            nn.LocalResponseNorm(size=5, alpha=1e-4, beta=0.75, k=2.0),\n",
        "            nn.MaxPool2d(kernel_size=3, stride=2)\n",
        "        )\n",
        "        self.layer2 = nn.Sequential(\n",
        "            nn.Conv2d(in_channels=96, out_channels=256, kernel_size=(5, 5), stride=(1,1)),\n",
        "nn.ReLU(),\n",
        "            nn.LocalResponseNorm(size=5, alpha=1e-4, beta=0.75, k=2.0),\n",
        "            nn.MaxPool2d(kernel_size=3, stride=2),\n",
        "            nn.Dropout(p=0.3)\n",
        "        )\n",
        "        self.layer3 = nn.Sequential(\n",
        "            nn.Conv2d(in_channels=256, out_channels=384, kernel_size=(3, 3), stride=(1, 1), padding=1),\n",
        "            nn.ReLU(),\n",
        "            nn.Conv2d(in_channels=384, out_channels=256, kernel_size=(3, 3), stride=(1, 1), padding=1),\n",
        "            nn.ReLU(),\n",
        ")\n",
        "        self.layer4 = nn.Sequential(\n",
        "            nn.MaxPool2d(kernel_size=3, stride=2),\n",
        "            nn.Dropout(p=0.3)\n",
        "        )\n",
        "        self.layer5 = nn.Sequential(\n",
        "            nn.Linear(in_features=98304, out_features=1024),\n",
        "            nn.Dropout(p=0.5)\n",
        "        )\n",
        "        self.layer6 = nn.Sequential(\n",
        "            nn.Linear(in_features=1024, out_features=128)\n",
        "        )\n",
        "\n",
        "\n",
        "\n",
        "    def forward(self, x):\n",
        "        out = self.layer1(x)\n",
        "        out = self.layer2(out)\n",
        "        out = self.layer3(out)\n",
        "        out = self.layer4(out)\n",
        "        out = out.view(out.size(0), -1)\n",
        "        out = self.layer5(out)\n",
        "        out = self.layer6(out)\n",
        "\n",
        "        return out"
      ],
      "metadata": {
        "id": "zzjd4Tri2Cym"
      },
      "execution_count": null,
      "outputs": []
    },
    {
      "cell_type": "code",
      "source": [
        "# print model\n",
        "model = SIGNET(input_size=1)\n",
        "print(model)"
      ],
      "metadata": {
        "colab": {
          "base_uri": "https://localhost:8080/"
        },
        "id": "_whqr3lC73vH",
        "outputId": "8dcdd18b-ca47-44de-8a54-09d957cd29a3"
      },
      "execution_count": null,
      "outputs": [
        {
          "output_type": "stream",
          "name": "stdout",
          "text": [
            "SIGNET(\n",
            "  (layer1): Sequential(\n",
            "    (0): Conv2d(1, 96, kernel_size=(11, 11), stride=(1, 1))\n",
            "    (1): ReLU()\n",
            "    (2): LocalResponseNorm(5, alpha=0.0001, beta=0.75, k=2.0)\n",
            "    (3): MaxPool2d(kernel_size=3, stride=2, padding=0, dilation=1, ceil_mode=False)\n",
            "  )\n",
            "  (layer2): Sequential(\n",
            "    (0): Conv2d(96, 256, kernel_size=(5, 5), stride=(1, 1))\n",
            "    (1): ReLU()\n",
            "    (2): LocalResponseNorm(5, alpha=0.0001, beta=0.75, k=2.0)\n",
            "    (3): MaxPool2d(kernel_size=3, stride=2, padding=0, dilation=1, ceil_mode=False)\n",
            "    (4): Dropout(p=0.3, inplace=False)\n",
            "  )\n",
            "  (layer3): Sequential(\n",
            "    (0): Conv2d(256, 384, kernel_size=(3, 3), stride=(1, 1), padding=(1, 1))\n",
            "    (1): ReLU()\n",
            "    (2): Conv2d(384, 256, kernel_size=(3, 3), stride=(1, 1), padding=(1, 1))\n",
            "    (3): ReLU()\n",
            "  )\n",
            "  (layer4): Sequential(\n",
            "    (0): MaxPool2d(kernel_size=3, stride=2, padding=0, dilation=1, ceil_mode=False)\n",
            "    (1): Dropout(p=0.3, inplace=False)\n",
            "  )\n",
            "  (layer5): Sequential(\n",
            "    (0): Linear(in_features=86016, out_features=1024, bias=True)\n",
            "    (1): Dropout(p=0.5, inplace=False)\n",
            "  )\n",
            "  (layer6): Sequential(\n",
            "    (0): Linear(in_features=1024, out_features=128, bias=True)\n",
            "  )\n",
            ")\n"
          ]
        }
      ]
    },
    {
      "cell_type": "code",
      "source": [
        "model = SIGNET(input_size=1)\n",
        "\n",
        "device = torch.device('cuda' if torch.cuda.is_available() else 'cpu')\n",
        "model.to(device)  # Move the model to the GPU\n",
        "\n",
        "summary(model, input_size=(1, 155, 220))"
      ],
      "metadata": {
        "colab": {
          "base_uri": "https://localhost:8080/"
        },
        "id": "G-Lb9qe58EJ8",
        "outputId": "4a589b98-2459-407a-c3ee-eea4c370016b"
      },
      "execution_count": null,
      "outputs": [
        {
          "output_type": "stream",
          "name": "stdout",
          "text": [
            "----------------------------------------------------------------\n",
            "        Layer (type)               Output Shape         Param #\n",
            "================================================================\n",
            "            Conv2d-1         [-1, 96, 145, 210]          11,712\n",
            "              ReLU-2         [-1, 96, 145, 210]               0\n",
            " LocalResponseNorm-3         [-1, 96, 145, 210]               0\n",
            "         MaxPool2d-4          [-1, 96, 72, 104]               0\n",
            "            Conv2d-5         [-1, 256, 68, 100]         614,656\n",
            "              ReLU-6         [-1, 256, 68, 100]               0\n",
            " LocalResponseNorm-7         [-1, 256, 68, 100]               0\n",
            "         MaxPool2d-8          [-1, 256, 33, 49]               0\n",
            "           Dropout-9          [-1, 256, 33, 49]               0\n",
            "           Conv2d-10          [-1, 384, 33, 49]         885,120\n",
            "             ReLU-11          [-1, 384, 33, 49]               0\n",
            "           Conv2d-12          [-1, 256, 33, 49]         884,992\n",
            "             ReLU-13          [-1, 256, 33, 49]               0\n",
            "        MaxPool2d-14          [-1, 256, 16, 24]               0\n",
            "          Dropout-15          [-1, 256, 16, 24]               0\n",
            "           Linear-16                 [-1, 1024]     100,664,320\n",
            "          Dropout-17                 [-1, 1024]               0\n",
            "           Linear-18                  [-1, 128]         131,200\n",
            "================================================================\n",
            "Total params: 103,192,000\n",
            "Trainable params: 103,192,000\n",
            "Non-trainable params: 0\n",
            "----------------------------------------------------------------\n",
            "Input size (MB): 0.13\n",
            "Forward/backward pass size (MB): 135.86\n",
            "Params size (MB): 393.65\n",
            "Estimated Total Size (MB): 529.64\n",
            "----------------------------------------------------------------\n"
          ]
        }
      ]
    },
    {
      "cell_type": "code",
      "source": [],
      "metadata": {
        "id": "m3OoJeSY8IeO"
      },
      "execution_count": null,
      "outputs": []
    }
  ]
}